{
 "cells": [
  {
   "cell_type": "code",
   "execution_count": 1,
   "metadata": {},
   "outputs": [],
   "source": [
    "from sklearn.feature_extraction.text import CountVectorizer\n",
    "from sklearn.feature_extraction.text import TfidfVectorizer\n",
    "import sklearn\n",
    "from sklearn import preprocessing\n",
    "from sklearn.model_selection import train_test_split\n",
    "from sklearn.linear_model import LogisticRegression\n",
    "from sklearn import metrics\n",
    "import pandas as pd\n",
    "import matplotlib.pyplot as plt\n",
    "%matplotlib inline\n",
    "import scipy\n",
    "from scipy.sparse import hstack"
   ]
  },
  {
   "cell_type": "code",
   "execution_count": 45,
   "metadata": {},
   "outputs": [],
   "source": [
    "df = pd.read_csv('preprocessed_text_news_df.csv')\n",
    "df_x = pd.read_csv('X.csv')\n",
    "\n",
    "df_x['title_prep'] = df['title_prep']\n",
    "df_x['headline_prep'] = df['headline_prep']\n",
    "df_x['title_headline'] = df['title_headline']\n",
    "df_x['title_headline'] = df_x['title_prep'] +' '+ df_x['headline_prep']\n",
    "vectorizer = TfidfVectorizer()\n",
    "X_th_bow = vectorizer.fit_transform(df_x['title_headline'])\n",
    "\n",
    "X =df_x[['economy', 'microsoft', 'obama', 'Others',\n",
    "       'Top_1%', 'Top_20%', 'Top_5%', 'SentimentHeadline', 'SentimentTitle',\n",
    "       'Publish_weekday']]\n",
    "\n",
    "Raw_values = scipy.sparse.csr_matrix(X.values)\n",
    "fea_text_all = hstack([Raw_values,X_th_bow])"
   ]
  },
  {
   "cell_type": "code",
   "execution_count": 46,
   "metadata": {},
   "outputs": [],
   "source": [
    "y_Link = df_x ['LinkedIn_pop_rank']\n",
    "y_Face = df_x ['Face_pop_rank']"
   ]
  },
  {
   "cell_type": "code",
   "execution_count": 47,
   "metadata": {},
   "outputs": [],
   "source": [
    "### 在下面这里换 X是feature-based/ fea_text_all是合并的\n",
    "### 换y_Face 是facebook的\n",
    "### 换y_Link 是 linkedin的"
   ]
  },
  {
   "cell_type": "code",
   "execution_count": 67,
   "metadata": {},
   "outputs": [],
   "source": [
    "X_train, X_test, y_train, y_test = train_test_split(\n",
    "        fea_text_all,y_Link, train_size=0.7, test_size=0.3, random_state=42, shuffle=True)"
   ]
  },
  {
   "cell_type": "code",
   "execution_count": 68,
   "metadata": {},
   "outputs": [],
   "source": [
    "# cal_test = X_test[(X_test['Top_5%'] ==1)&(X_test['obama'] ==1)]\n",
    "# cal_test.head(5)"
   ]
  },
  {
   "cell_type": "code",
   "execution_count": 72,
   "metadata": {},
   "outputs": [],
   "source": [
    "from sklearn.preprocessing import LabelBinarizer\n",
    "from sklearn.metrics import roc_auc_score\n",
    "\n",
    "def draw_roc_curve(y_test, y_proba):\n",
    "    \n",
    "    fpr, tpr, thresholds = roc_curve(y_test, y_proba)\n",
    "    plt.plot(fpr,tpr)\n",
    "    plt.xlim([0.0, 1.0])\n",
    "    plt.ylim([0.0, 1.0])\n",
    "    plt.title('ROC curve ')\n",
    "    plt.xlabel('False positive rate (1-Specificity)')\n",
    "    plt.ylabel('True positive rate (Sensitivity)')\n",
    "    plt.grid(True)\n",
    "    \n",
    "    return plt.show()\n",
    "\n",
    "\n",
    "from sklearn.metrics import accuracy_score\n",
    "from sklearn.metrics import confusion_matrix\n",
    "from sklearn.metrics import precision_score\n",
    "from sklearn.metrics import recall_score\n",
    "from sklearn.metrics import roc_curve\n",
    "from sklearn.metrics import roc_auc_score\n",
    "def build_logistic_regression(X_train,y_train,X_test,y_test):\n",
    "    \n",
    "#     logreg = LogisticRegression()\n",
    "    logreg = LogisticRegression(class_weight='balanced')\n",
    "    logreg.fit(X_train,y_train)\n",
    "    y_pred_train = logreg.predict(X_train)\n",
    "    y_pred_test = logreg.predict(X_test)\n",
    "    \n",
    "    print('Train accuracy score:',accuracy_score(y_train,y_pred_train))\n",
    "    print('Test accuracy score:', accuracy_score(y_test, y_pred_test))\n",
    "    \n",
    "    print(confusion_matrix(y_test, y_pred_test))\n",
    "    print('Precision score:', precision_score(y_test, y_pred_test))\n",
    "    print('Recall score:', recall_score(y_test, y_pred_test))\n",
    "    \n",
    "    print(logreg.intercept_)\n",
    "    print(pd.DataFrame(logreg.coef_))\n",
    "\n",
    "\n",
    "    y_proba=logreg.predict_proba(X_test)[:,1]\n",
    "    \n",
    "   \n",
    "    draw_roc_curve(y_test, y_proba)\n",
    "     \n",
    "#     y_proba_cal=logreg.predict_proba(cal_test)[:,1]\n",
    "#     plt.hist(y_proba_cal)\n",
    " \n",
    "    return plt.show()"
   ]
  },
  {
   "cell_type": "code",
   "execution_count": 73,
   "metadata": {},
   "outputs": [],
   "source": [
    "# cal_test = X_test[X_test['obama'] == 1]"
   ]
  },
  {
   "cell_type": "code",
   "execution_count": 74,
   "metadata": {
    "scrolled": true
   },
   "outputs": [
    {
     "name": "stdout",
     "output_type": "stream",
     "text": [
      "Train accuracy score: 0.7964233219010289\n",
      "Test accuracy score: 0.6810972996142306\n",
      "[[3704 1539]\n",
      " [ 693 1063]]\n",
      "Precision score: 0.40853189853958494\n",
      "Recall score: 0.6053530751708428\n",
      "[-1.26486731]\n",
      "      0         1         2         3         4         5         6      \\\n",
      "0  1.745518  1.511421  0.586655 -0.900881  0.410948 -0.651048 -0.123886   \n",
      "\n",
      "      7         8        9      ...     27769     27770    27771     27772  \\\n",
      "0  0.083585  0.128284 -0.04386  ... -0.089087  0.200951 -0.09047  0.384752   \n",
      "\n",
      "      27773  27774     27775  27776     27777     27778  \n",
      "0 -0.102852    0.0  0.062601    0.0 -0.080657 -0.010834  \n",
      "\n",
      "[1 rows x 27779 columns]\n"
     ]
    },
    {
     "data": {
      "image/png": "[encoded data removed]",
      "text/plain": [
       "<Figure size 432x288 with 1 Axes>"
      ]
     },
     "metadata": {
      "needs_background": "light"
     },
     "output_type": "display_data"
    }
   ],
   "source": [
    "\n",
    "build_logistic_regression(X_train,y_train,X_test,y_test)"
   ]
  },
  {
   "cell_type": "code",
   "execution_count": 10,
   "metadata": {},
   "outputs": [
    {
     "name": "stderr",
     "output_type": "stream",
     "text": [
      "C:\\ProgramData\\Anaconda3\\lib\\site-packages\\sklearn\\linear_model\\logistic.py:433: FutureWarning: Default solver will be changed to 'lbfgs' in 0.22. Specify a solver to silence this warning.\n",
      "  FutureWarning)\n"
     ]
    },
    {
     "data": {
      "text/plain": [
       "Text(0.5, 257.44, 'Predicted label')"
      ]
     },
     "execution_count": 10,
     "metadata": {},
     "output_type": "execute_result"
    },
    {
     "data": {
      "image/png": "[encoded data removed]",
      "text/plain": [
       "<Figure size 432x288 with 2 Axes>"
      ]
     },
     "metadata": {
      "needs_background": "light"
     },
     "output_type": "display_data"
    }
   ],
   "source": [
    "import numpy as np\n",
    "import seaborn as sns\n",
    "logreg = LogisticRegression()\n",
    "logreg.fit(X_train,y_train)\n",
    "y_pred=logreg.predict(X_test)\n",
    "cnf_matrix = metrics.confusion_matrix(y_test, y_pred)\n",
    "class_names=[0,1,2,3]\n",
    "fig, ax = plt.subplots()\n",
    "tick_marks = np.arange(len(class_names))\n",
    "plt.xticks(tick_marks, class_names)\n",
    "plt.yticks(tick_marks, class_names)\n",
    "sns.heatmap(pd.DataFrame(cnf_matrix), annot=True, cmap=\"coolwarm\" ,fmt='g')\n",
    "ax.xaxis.set_label_position(\"top\")\n",
    "plt.tight_layout()\n",
    "plt.title('Confusion matrix', y=1.1)\n",
    "plt.ylabel('Actual label')\n",
    "plt.xlabel('Predicted label')"
   ]
  },
  {
   "cell_type": "code",
   "execution_count": 11,
   "metadata": {},
   "outputs": [],
   "source": [
    "from sklearn.ensemble import RandomForestClassifier\n",
    "def build_RFC(X_train,y_train,X_test,y_test,X):\n",
    "    \n",
    "    clf = RandomForestClassifier()\n",
    "    clf.fit(X_train,y_train)\n",
    "    y_pred_train = clf.predict(X_train)\n",
    "    \n",
    "    y_pred_test = clf.predict(X_test)\n",
    "    \n",
    "    y_proba=clf.predict_proba(X_test)[:,1]\n",
    "    \n",
    "    draw_roc_curve(y_test, y_proba)\n",
    "    \n",
    "\n",
    "    print('Train accuracy score:',accuracy_score(y_train,y_pred_train))\n",
    "    print('Test accuracy score:', accuracy_score(y_test,y_pred_test))\n",
    "    print('Precision score:', precision_score(y_test, y_pred_test))\n",
    "    print('Recall score:', recall_score(y_test, y_pred_test))\n",
    "    \n",
    "    y_pred=clf.predict(X_test)\n",
    "    cnf_matrix = metrics.confusion_matrix(y_test, y_pred)\n",
    "    class_names=[0,1,2,3]\n",
    "    fig, ax = plt.subplots()\n",
    "    tick_marks = np.arange(len(class_names))\n",
    "    plt.xticks(tick_marks, class_names)\n",
    "    plt.yticks(tick_marks, class_names)\n",
    "    sns.heatmap(pd.DataFrame(cnf_matrix), annot=True, cmap=\"coolwarm\" ,fmt='g')\n",
    "    ax.xaxis.set_label_position(\"top\")\n",
    "    plt.tight_layout()\n",
    "    plt.title('Confusion matrix', y=1.1)\n",
    "    plt.ylabel('Actual label')\n",
    "    plt.xlabel('Predicted label')\n",
    "#     print(clf.coef_)\n",
    "    \n",
    "    return pd.crosstab(y_test,pd.Series(y_pred_test),rownames=['ACTUAL'],colnames=['PRED'])"
   ]
  },
  {
   "cell_type": "code",
   "execution_count": 12,
   "metadata": {},
   "outputs": [
    {
     "name": "stderr",
     "output_type": "stream",
     "text": [
      "C:\\ProgramData\\Anaconda3\\lib\\site-packages\\sklearn\\ensemble\\forest.py:246: FutureWarning: The default value of n_estimators will change from 10 in version 0.20 to 100 in 0.22.\n",
      "  \"10 in version 0.20 to 100 in 0.22.\", FutureWarning)\n"
     ]
    },
    {
     "data": {
      "image/png": "[encoded data removed]",
      "text/plain": [
       "<Figure size 432x288 with 1 Axes>"
      ]
     },
     "metadata": {
      "needs_background": "light"
     },
     "output_type": "display_data"
    },
    {
     "name": "stdout",
     "output_type": "stream",
     "text": [
      "Train accuracy score: 0.9807692307692307\n",
      "Test accuracy score: 0.7728246892413202\n",
      "Precision score: 0.6119016817593791\n",
      "Recall score: 0.2682926829268293\n"
     ]
    },
    {
     "data": {
      "text/html": [
       "<div>\n",
       "<style scoped>\n",
       "    .dataframe tbody tr th:only-of-type {\n",
       "        vertical-align: middle;\n",
       "    }\n",
       "\n",
       "    .dataframe tbody tr th {\n",
       "        vertical-align: top;\n",
       "    }\n",
       "\n",
       "    .dataframe thead th {\n",
       "        text-align: right;\n",
       "    }\n",
       "</style>\n",
       "<table border=\"1\" class=\"dataframe\">\n",
       "  <thead>\n",
       "    <tr style=\"text-align: right;\">\n",
       "      <th>PRED</th>\n",
       "      <th>0</th>\n",
       "      <th>1</th>\n",
       "    </tr>\n",
       "    <tr>\n",
       "      <th>ACTUAL</th>\n",
       "      <th></th>\n",
       "      <th></th>\n",
       "    </tr>\n",
       "  </thead>\n",
       "  <tbody>\n",
       "    <tr>\n",
       "      <th>0</th>\n",
       "      <td>1521</td>\n",
       "      <td>165</td>\n",
       "    </tr>\n",
       "    <tr>\n",
       "      <th>1</th>\n",
       "      <td>353</td>\n",
       "      <td>52</td>\n",
       "    </tr>\n",
       "  </tbody>\n",
       "</table>\n",
       "</div>"
      ],
      "text/plain": [
       "PRED       0    1\n",
       "ACTUAL           \n",
       "0       1521  165\n",
       "1        353   52"
      ]
     },
     "execution_count": 12,
     "metadata": {},
     "output_type": "execute_result"
    },
    {
     "data": {
      "image/png": "[encoded data removed]",
      "text/plain": [
       "<Figure size 432x288 with 2 Axes>"
      ]
     },
     "metadata": {
      "needs_background": "light"
     },
     "output_type": "display_data"
    }
   ],
   "source": [
    "build_RFC(X_train,y_train,X_test,y_test,X)"
   ]
  },
  {
   "cell_type": "code",
   "execution_count": null,
   "metadata": {},
   "outputs": [],
   "source": []
  },
  {
   "cell_type": "code",
   "execution_count": null,
   "metadata": {},
   "outputs": [],
   "source": []
  }
 ],
 "metadata": {
  "kernelspec": {
   "display_name": "Python 3",
   "language": "python",
   "name": "python3"
  },
  "language_info": {
   "codemirror_mode": {
    "name": "ipython",
    "version": 3
   },
   "file_extension": ".py",
   "mimetype": "text/x-python",
   "name": "python",
   "nbconvert_exporter": "python",
   "pygments_lexer": "ipython3",
   "version": "3.7.3"
  }
 },
 "nbformat": 4,
 "nbformat_minor": 2
}
